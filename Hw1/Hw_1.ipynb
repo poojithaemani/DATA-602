{
 "cells": [
  {
   "cell_type": "markdown",
   "id": "39d86313",
   "metadata": {},
   "source": [
    "## DATA 602 - Spring 2024\n",
    "### Homework Assignment 1\n",
    "Total points : 60<br>\n",
    " Please provide your solutions into the cells provided after question cells. You can create new cells as needed. <br>"
   ]
  },
  {
   "cell_type": "code",
   "execution_count": 1,
   "id": "b438d375",
   "metadata": {},
   "outputs": [],
   "source": [
    "import numpy as np\n",
    "import pandas as pd\n",
    "import seaborn as sns \n",
    "from sklearn.model_selection import train_test_split\n",
    "from sklearn.metrics import mean_squared_error\n",
    "from sklearn.metrics import r2_score\n",
    "from sklearn.preprocessing import PolynomialFeatures\n",
    "from sklearn.pipeline import make_pipeline\n",
    "import matplotlib.pyplot as plt"
   ]
  },
  {
   "cell_type": "markdown",
   "id": "2696317b",
   "metadata": {},
   "source": [
    "The data from the <code>Fish.csv</code> looks like this"
   ]
  },
  {
   "cell_type": "code",
   "execution_count": 2,
   "id": "71180f44",
   "metadata": {},
   "outputs": [
    {
     "data": {
      "text/html": [
       "<div>\n",
       "<style scoped>\n",
       "    .dataframe tbody tr th:only-of-type {\n",
       "        vertical-align: middle;\n",
       "    }\n",
       "\n",
       "    .dataframe tbody tr th {\n",
       "        vertical-align: top;\n",
       "    }\n",
       "\n",
       "    .dataframe thead th {\n",
       "        text-align: right;\n",
       "    }\n",
       "</style>\n",
       "<table border=\"1\" class=\"dataframe\">\n",
       "  <thead>\n",
       "    <tr style=\"text-align: right;\">\n",
       "      <th></th>\n",
       "      <th>Species</th>\n",
       "      <th>Weight</th>\n",
       "      <th>Length1</th>\n",
       "      <th>Length2</th>\n",
       "      <th>Length3</th>\n",
       "      <th>Height</th>\n",
       "      <th>Width</th>\n",
       "    </tr>\n",
       "  </thead>\n",
       "  <tbody>\n",
       "    <tr>\n",
       "      <th>0</th>\n",
       "      <td>Bream</td>\n",
       "      <td>242.0</td>\n",
       "      <td>23.2</td>\n",
       "      <td>25.4</td>\n",
       "      <td>30.0</td>\n",
       "      <td>11.5200</td>\n",
       "      <td>4.0200</td>\n",
       "    </tr>\n",
       "    <tr>\n",
       "      <th>1</th>\n",
       "      <td>Bream</td>\n",
       "      <td>290.0</td>\n",
       "      <td>24.0</td>\n",
       "      <td>26.3</td>\n",
       "      <td>31.2</td>\n",
       "      <td>12.4800</td>\n",
       "      <td>4.3056</td>\n",
       "    </tr>\n",
       "    <tr>\n",
       "      <th>2</th>\n",
       "      <td>Bream</td>\n",
       "      <td>340.0</td>\n",
       "      <td>23.9</td>\n",
       "      <td>26.5</td>\n",
       "      <td>31.1</td>\n",
       "      <td>12.3778</td>\n",
       "      <td>4.6961</td>\n",
       "    </tr>\n",
       "    <tr>\n",
       "      <th>3</th>\n",
       "      <td>Bream</td>\n",
       "      <td>363.0</td>\n",
       "      <td>26.3</td>\n",
       "      <td>29.0</td>\n",
       "      <td>33.5</td>\n",
       "      <td>12.7300</td>\n",
       "      <td>4.4555</td>\n",
       "    </tr>\n",
       "    <tr>\n",
       "      <th>4</th>\n",
       "      <td>Bream</td>\n",
       "      <td>430.0</td>\n",
       "      <td>26.5</td>\n",
       "      <td>29.0</td>\n",
       "      <td>34.0</td>\n",
       "      <td>12.4440</td>\n",
       "      <td>5.1340</td>\n",
       "    </tr>\n",
       "  </tbody>\n",
       "</table>\n",
       "</div>"
      ],
      "text/plain": [
       "  Species  Weight  Length1  Length2  Length3   Height   Width\n",
       "0   Bream   242.0     23.2     25.4     30.0  11.5200  4.0200\n",
       "1   Bream   290.0     24.0     26.3     31.2  12.4800  4.3056\n",
       "2   Bream   340.0     23.9     26.5     31.1  12.3778  4.6961\n",
       "3   Bream   363.0     26.3     29.0     33.5  12.7300  4.4555\n",
       "4   Bream   430.0     26.5     29.0     34.0  12.4440  5.1340"
      ]
     },
     "execution_count": 2,
     "metadata": {},
     "output_type": "execute_result"
    }
   ],
   "source": [
    "data = pd.read_csv('Fish.csv')\n",
    "df = data.copy()\n",
    "#Removing outliers\n",
    "df = df.drop([142,143,144])\n",
    "df.head()"
   ]
  },
  {
   "cell_type": "markdown",
   "id": "f8aecb0d",
   "metadata": {},
   "source": [
    "The meaning of columns are as follows :\n",
    "* Species: Species name of fish\n",
    "* Weight: Weight of fish in gram\n",
    "* Length1: Vertical length in cm\n",
    "* Length2: Diagonal length in cm\n",
    "* Length3: Cross length in cm\n",
    "* Height: Height in cm\n",
    "* Width: Diagonal width in cm\n",
    "\n",
    "Our <b>dependent</b> variable is 'Weight'. <b>Independent</b> variables are 'length1', 'length2', 'height' and 'width' (ignore 'species')."
   ]
  },
  {
   "cell_type": "markdown",
   "id": "f3a69aeb",
   "metadata": {},
   "source": [
    "<b>Question 1</b> [<span style=\"color: red;\">2 x 6 = 10 points</span>]:<br>\n",
    "1. Drop the column for Species. Then from the remaining Choose two independent variables (i.e choose two features) for predicting the weight (target) of the fish .\n",
    "2. Justify your choice (in a comment) and show your work (Hint : correlation matrix)\n",
    "3. Create a <code>X</code> and <code>y</code> from the Independent (excluding species) and dependent variables respectively. Do a train-test split of 80%-20% and create <code>X_train,y_train</code> and <code>X_test,y_test</code>. Print out all their shapes.\n",
    "4. Use linear regression from scikit learn to train (fit) on <code>X_train,y_train</code>\n",
    "5. Show the intercept and coefficients from the fitted model\n",
    "6. Use <code>X_test</code> to predict <code>y_pred_test</code> and calculate the RMSE and R2 squares."
   ]
  },
  {
   "cell_type": "code",
   "execution_count": 3,
   "id": "166f7a99",
   "metadata": {},
   "outputs": [
    {
     "data": {
      "text/html": [
       "<div>\n",
       "<style scoped>\n",
       "    .dataframe tbody tr th:only-of-type {\n",
       "        vertical-align: middle;\n",
       "    }\n",
       "\n",
       "    .dataframe tbody tr th {\n",
       "        vertical-align: top;\n",
       "    }\n",
       "\n",
       "    .dataframe thead th {\n",
       "        text-align: right;\n",
       "    }\n",
       "</style>\n",
       "<table border=\"1\" class=\"dataframe\">\n",
       "  <thead>\n",
       "    <tr style=\"text-align: right;\">\n",
       "      <th></th>\n",
       "      <th>Weight</th>\n",
       "      <th>Length1</th>\n",
       "      <th>Length2</th>\n",
       "      <th>Length3</th>\n",
       "      <th>Height</th>\n",
       "      <th>Width</th>\n",
       "    </tr>\n",
       "  </thead>\n",
       "  <tbody>\n",
       "    <tr>\n",
       "      <th>0</th>\n",
       "      <td>242.0</td>\n",
       "      <td>23.2</td>\n",
       "      <td>25.4</td>\n",
       "      <td>30.0</td>\n",
       "      <td>11.5200</td>\n",
       "      <td>4.0200</td>\n",
       "    </tr>\n",
       "    <tr>\n",
       "      <th>1</th>\n",
       "      <td>290.0</td>\n",
       "      <td>24.0</td>\n",
       "      <td>26.3</td>\n",
       "      <td>31.2</td>\n",
       "      <td>12.4800</td>\n",
       "      <td>4.3056</td>\n",
       "    </tr>\n",
       "    <tr>\n",
       "      <th>2</th>\n",
       "      <td>340.0</td>\n",
       "      <td>23.9</td>\n",
       "      <td>26.5</td>\n",
       "      <td>31.1</td>\n",
       "      <td>12.3778</td>\n",
       "      <td>4.6961</td>\n",
       "    </tr>\n",
       "    <tr>\n",
       "      <th>3</th>\n",
       "      <td>363.0</td>\n",
       "      <td>26.3</td>\n",
       "      <td>29.0</td>\n",
       "      <td>33.5</td>\n",
       "      <td>12.7300</td>\n",
       "      <td>4.4555</td>\n",
       "    </tr>\n",
       "    <tr>\n",
       "      <th>4</th>\n",
       "      <td>430.0</td>\n",
       "      <td>26.5</td>\n",
       "      <td>29.0</td>\n",
       "      <td>34.0</td>\n",
       "      <td>12.4440</td>\n",
       "      <td>5.1340</td>\n",
       "    </tr>\n",
       "  </tbody>\n",
       "</table>\n",
       "</div>"
      ],
      "text/plain": [
       "   Weight  Length1  Length2  Length3   Height   Width\n",
       "0   242.0     23.2     25.4     30.0  11.5200  4.0200\n",
       "1   290.0     24.0     26.3     31.2  12.4800  4.3056\n",
       "2   340.0     23.9     26.5     31.1  12.3778  4.6961\n",
       "3   363.0     26.3     29.0     33.5  12.7300  4.4555\n",
       "4   430.0     26.5     29.0     34.0  12.4440  5.1340"
      ]
     },
     "execution_count": 3,
     "metadata": {},
     "output_type": "execute_result"
    }
   ],
   "source": [
    "#Your code goes below\n",
    "df.drop('Species', axis=1, inplace=True)\n",
    "df.head()"
   ]
  },
  {
   "cell_type": "code",
   "execution_count": 4,
   "id": "fd5651b4",
   "metadata": {},
   "outputs": [
    {
     "data": {
      "text/html": [
       "<div>\n",
       "<style scoped>\n",
       "    .dataframe tbody tr th:only-of-type {\n",
       "        vertical-align: middle;\n",
       "    }\n",
       "\n",
       "    .dataframe tbody tr th {\n",
       "        vertical-align: top;\n",
       "    }\n",
       "\n",
       "    .dataframe thead th {\n",
       "        text-align: right;\n",
       "    }\n",
       "</style>\n",
       "<table border=\"1\" class=\"dataframe\">\n",
       "  <thead>\n",
       "    <tr style=\"text-align: right;\">\n",
       "      <th></th>\n",
       "      <th>Weight</th>\n",
       "      <th>Length1</th>\n",
       "      <th>Length2</th>\n",
       "      <th>Length3</th>\n",
       "      <th>Height</th>\n",
       "      <th>Width</th>\n",
       "    </tr>\n",
       "  </thead>\n",
       "  <tbody>\n",
       "    <tr>\n",
       "      <th>Weight</th>\n",
       "      <td>1.000000</td>\n",
       "      <td>0.895743</td>\n",
       "      <td>0.899759</td>\n",
       "      <td>0.907292</td>\n",
       "      <td>0.801871</td>\n",
       "      <td>0.923432</td>\n",
       "    </tr>\n",
       "    <tr>\n",
       "      <th>Length1</th>\n",
       "      <td>0.895743</td>\n",
       "      <td>1.000000</td>\n",
       "      <td>0.999418</td>\n",
       "      <td>0.990612</td>\n",
       "      <td>0.676326</td>\n",
       "      <td>0.889166</td>\n",
       "    </tr>\n",
       "    <tr>\n",
       "      <th>Length2</th>\n",
       "      <td>0.899759</td>\n",
       "      <td>0.999418</td>\n",
       "      <td>1.000000</td>\n",
       "      <td>0.993049</td>\n",
       "      <td>0.691954</td>\n",
       "      <td>0.895584</td>\n",
       "    </tr>\n",
       "    <tr>\n",
       "      <th>Length3</th>\n",
       "      <td>0.907292</td>\n",
       "      <td>0.990612</td>\n",
       "      <td>0.993049</td>\n",
       "      <td>1.000000</td>\n",
       "      <td>0.756019</td>\n",
       "      <td>0.897053</td>\n",
       "    </tr>\n",
       "    <tr>\n",
       "      <th>Height</th>\n",
       "      <td>0.801871</td>\n",
       "      <td>0.676326</td>\n",
       "      <td>0.691954</td>\n",
       "      <td>0.756019</td>\n",
       "      <td>1.000000</td>\n",
       "      <td>0.800542</td>\n",
       "    </tr>\n",
       "    <tr>\n",
       "      <th>Width</th>\n",
       "      <td>0.923432</td>\n",
       "      <td>0.889166</td>\n",
       "      <td>0.895584</td>\n",
       "      <td>0.897053</td>\n",
       "      <td>0.800542</td>\n",
       "      <td>1.000000</td>\n",
       "    </tr>\n",
       "  </tbody>\n",
       "</table>\n",
       "</div>"
      ],
      "text/plain": [
       "           Weight   Length1   Length2   Length3    Height     Width\n",
       "Weight   1.000000  0.895743  0.899759  0.907292  0.801871  0.923432\n",
       "Length1  0.895743  1.000000  0.999418  0.990612  0.676326  0.889166\n",
       "Length2  0.899759  0.999418  1.000000  0.993049  0.691954  0.895584\n",
       "Length3  0.907292  0.990612  0.993049  1.000000  0.756019  0.897053\n",
       "Height   0.801871  0.676326  0.691954  0.756019  1.000000  0.800542\n",
       "Width    0.923432  0.889166  0.895584  0.897053  0.800542  1.000000"
      ]
     },
     "execution_count": 4,
     "metadata": {},
     "output_type": "execute_result"
    }
   ],
   "source": [
    "#calcualting all correlation values with respective to each other\n",
    "df_cor = df.corr()\n",
    "df_cor"
   ]
  },
  {
   "cell_type": "code",
   "execution_count": 5,
   "id": "2dd8d226",
   "metadata": {},
   "outputs": [
    {
     "data": {
      "image/png": "[encoded data removed]",
      "text/plain": [
       "<Figure size 1000x800 with 2 Axes>"
      ]
     },
     "metadata": {},
     "output_type": "display_data"
    }
   ],
   "source": [
    "#Heat Map for COrrelation matrix for above table\n",
    "plt.figure(figsize=(10, 8))\n",
    "sns.heatmap(df_cor, annot=True, cmap='plasma', fmt=\".2f\", annot_kws={\"size\": 10})\n",
    "plt.title('Correlation Matrix Heatmap')\n",
    "plt.show()\n"
   ]
  },
  {
   "cell_type": "markdown",
   "id": "c5ac528d",
   "metadata": {},
   "source": [
    "From the above graph,I am choosing \"Width\" and \"Lenght3\" as two independent variables(Columns) for Predicting Dependent column \"Weight\" Since Width has highest correlation(0.92) and Length3 has 2nd highest corelation(0.91) when compared to other variables."
   ]
  },
  {
   "cell_type": "code",
   "execution_count": 6,
   "id": "21e541ae",
   "metadata": {},
   "outputs": [
    {
     "data": {
      "text/html": [
       "<div>\n",
       "<style scoped>\n",
       "    .dataframe tbody tr th:only-of-type {\n",
       "        vertical-align: middle;\n",
       "    }\n",
       "\n",
       "    .dataframe tbody tr th {\n",
       "        vertical-align: top;\n",
       "    }\n",
       "\n",
       "    .dataframe thead th {\n",
       "        text-align: right;\n",
       "    }\n",
       "</style>\n",
       "<table border=\"1\" class=\"dataframe\">\n",
       "  <thead>\n",
       "    <tr style=\"text-align: right;\">\n",
       "      <th></th>\n",
       "      <th>Length3</th>\n",
       "      <th>Width</th>\n",
       "    </tr>\n",
       "  </thead>\n",
       "  <tbody>\n",
       "    <tr>\n",
       "      <th>0</th>\n",
       "      <td>30.0</td>\n",
       "      <td>4.0200</td>\n",
       "    </tr>\n",
       "    <tr>\n",
       "      <th>1</th>\n",
       "      <td>31.2</td>\n",
       "      <td>4.3056</td>\n",
       "    </tr>\n",
       "    <tr>\n",
       "      <th>2</th>\n",
       "      <td>31.1</td>\n",
       "      <td>4.6961</td>\n",
       "    </tr>\n",
       "    <tr>\n",
       "      <th>3</th>\n",
       "      <td>33.5</td>\n",
       "      <td>4.4555</td>\n",
       "    </tr>\n",
       "    <tr>\n",
       "      <th>4</th>\n",
       "      <td>34.0</td>\n",
       "      <td>5.1340</td>\n",
       "    </tr>\n",
       "  </tbody>\n",
       "</table>\n",
       "</div>"
      ],
      "text/plain": [
       "   Length3   Width\n",
       "0     30.0  4.0200\n",
       "1     31.2  4.3056\n",
       "2     31.1  4.6961\n",
       "3     33.5  4.4555\n",
       "4     34.0  5.1340"
      ]
     },
     "execution_count": 6,
     "metadata": {},
     "output_type": "execute_result"
    }
   ],
   "source": [
    "# Dropping all columns other than Length3 and weight\n",
    "# creating X values for prediction \n",
    "X = df.drop(columns = [\"Height\",'Length1','Length2','Weight'])\n",
    "X.head()"
   ]
  },
  {
   "cell_type": "code",
   "execution_count": 7,
   "id": "63938889",
   "metadata": {},
   "outputs": [
    {
     "data": {
      "text/plain": [
       "0    242.0\n",
       "1    290.0\n",
       "2    340.0\n",
       "3    363.0\n",
       "4    430.0\n",
       "Name: Weight, dtype: float64"
      ]
     },
     "execution_count": 7,
     "metadata": {},
     "output_type": "execute_result"
    }
   ],
   "source": [
    "# creating y for prediction\n",
    "y = df[\"Weight\"]\n",
    "y.head()"
   ]
  },
  {
   "cell_type": "code",
   "execution_count": 8,
   "id": "457198a4",
   "metadata": {},
   "outputs": [],
   "source": [
    "# Split the data into training and testing sets using train_test_split Module from sklearn libary\n",
    "X_train, X_test, y_train, y_test = train_test_split(X, y, test_size=0.2, random_state=17)\n"
   ]
  },
  {
   "cell_type": "code",
   "execution_count": 9,
   "id": "84e778e2",
   "metadata": {},
   "outputs": [],
   "source": [
    "#creating lr as linaer regression model\n",
    "from sklearn.linear_model import LinearRegression\n",
    "lr = LinearRegression()"
   ]
  },
  {
   "cell_type": "code",
   "execution_count": 10,
   "id": "f2a47fc5",
   "metadata": {},
   "outputs": [
    {
     "data": {
      "text/html": [
       "<style>#sk-container-id-1 {color: black;}#sk-container-id-1 pre{padding: 0;}#sk-container-id-1 div.sk-toggleable {background-color: white;}#sk-container-id-1 label.sk-toggleable__label {cursor: pointer;display: block;width: 100%;margin-bottom: 0;padding: 0.3em;box-sizing: border-box;text-align: center;}#sk-container-id-1 label.sk-toggleable__label-arrow:before {content: \"▸\";float: left;margin-right: 0.25em;color: #696969;}#sk-container-id-1 label.sk-toggleable__label-arrow:hover:before {color: black;}#sk-container-id-1 div.sk-estimator:hover label.sk-toggleable__label-arrow:before {color: black;}#sk-container-id-1 div.sk-toggleable__content {max-height: 0;max-width: 0;overflow: hidden;text-align: left;background-color: #f0f8ff;}#sk-container-id-1 div.sk-toggleable__content pre {margin: 0.2em;color: black;border-radius: 0.25em;background-color: #f0f8ff;}#sk-container-id-1 input.sk-toggleable__control:checked~div.sk-toggleable__content {max-height: 200px;max-width: 100%;overflow: auto;}#sk-container-id-1 input.sk-toggleable__control:checked~label.sk-toggleable__label-arrow:before {content: \"▾\";}#sk-container-id-1 div.sk-estimator input.sk-toggleable__control:checked~label.sk-toggleable__label {background-color: #d4ebff;}#sk-container-id-1 div.sk-label input.sk-toggleable__control:checked~label.sk-toggleable__label {background-color: #d4ebff;}#sk-container-id-1 input.sk-hidden--visually {border: 0;clip: rect(1px 1px 1px 1px);clip: rect(1px, 1px, 1px, 1px);height: 1px;margin: -1px;overflow: hidden;padding: 0;position: absolute;width: 1px;}#sk-container-id-1 div.sk-estimator {font-family: monospace;background-color: #f0f8ff;border: 1px dotted black;border-radius: 0.25em;box-sizing: border-box;margin-bottom: 0.5em;}#sk-container-id-1 div.sk-estimator:hover {background-color: #d4ebff;}#sk-container-id-1 div.sk-parallel-item::after {content: \"\";width: 100%;border-bottom: 1px solid gray;flex-grow: 1;}#sk-container-id-1 div.sk-label:hover label.sk-toggleable__label {background-color: #d4ebff;}#sk-container-id-1 div.sk-serial::before {content: \"\";position: absolute;border-left: 1px solid gray;box-sizing: border-box;top: 0;bottom: 0;left: 50%;z-index: 0;}#sk-container-id-1 div.sk-serial {display: flex;flex-direction: column;align-items: center;background-color: white;padding-right: 0.2em;padding-left: 0.2em;position: relative;}#sk-container-id-1 div.sk-item {position: relative;z-index: 1;}#sk-container-id-1 div.sk-parallel {display: flex;align-items: stretch;justify-content: center;background-color: white;position: relative;}#sk-container-id-1 div.sk-item::before, #sk-container-id-1 div.sk-parallel-item::before {content: \"\";position: absolute;border-left: 1px solid gray;box-sizing: border-box;top: 0;bottom: 0;left: 50%;z-index: -1;}#sk-container-id-1 div.sk-parallel-item {display: flex;flex-direction: column;z-index: 1;position: relative;background-color: white;}#sk-container-id-1 div.sk-parallel-item:first-child::after {align-self: flex-end;width: 50%;}#sk-container-id-1 div.sk-parallel-item:last-child::after {align-self: flex-start;width: 50%;}#sk-container-id-1 div.sk-parallel-item:only-child::after {width: 0;}#sk-container-id-1 div.sk-dashed-wrapped {border: 1px dashed gray;margin: 0 0.4em 0.5em 0.4em;box-sizing: border-box;padding-bottom: 0.4em;background-color: white;}#sk-container-id-1 div.sk-label label {font-family: monospace;font-weight: bold;display: inline-block;line-height: 1.2em;}#sk-container-id-1 div.sk-label-container {text-align: center;}#sk-container-id-1 div.sk-container {/* jupyter's `normalize.less` sets `[hidden] { display: none; }` but bootstrap.min.css set `[hidden] { display: none !important; }` so we also need the `!important` here to be able to override the default hidden behavior on the sphinx rendered scikit-learn.org. See: https://github.com/scikit-learn/scikit-learn/issues/21755 */display: inline-block !important;position: relative;}#sk-container-id-1 div.sk-text-repr-fallback {display: none;}</style><div id=\"sk-container-id-1\" class=\"sk-top-container\"><div class=\"sk-text-repr-fallback\"><pre>LinearRegression()</pre><b>In a Jupyter environment, please rerun this cell to show the HTML representation or trust the notebook. <br />On GitHub, the HTML representation is unable to render, please try loading this page with nbviewer.org.</b></div><div class=\"sk-container\" hidden><div class=\"sk-item\"><div class=\"sk-estimator sk-toggleable\"><input class=\"sk-toggleable__control sk-hidden--visually\" id=\"sk-estimator-id-1\" type=\"checkbox\" checked><label for=\"sk-estimator-id-1\" class=\"sk-toggleable__label sk-toggleable__label-arrow\">LinearRegression</label><div class=\"sk-toggleable__content\"><pre>LinearRegression()</pre></div></div></div></div></div>"
      ],
      "text/plain": [
       "LinearRegression()"
      ]
     },
     "execution_count": 10,
     "metadata": {},
     "output_type": "execute_result"
    }
   ],
   "source": [
    "# Fitting training dataset into model\n",
    "lr.fit(X_train,y_train)\n"
   ]
  },
  {
   "cell_type": "code",
   "execution_count": 11,
   "id": "b0539d00",
   "metadata": {},
   "outputs": [
    {
     "name": "stdout",
     "output_type": "stream",
     "text": [
      "(124, 2)\n",
      "(124,)\n"
     ]
    }
   ],
   "source": [
    "#shape for training dataset\n",
    "print(X_train.shape)\n",
    "print(y_train.shape)"
   ]
  },
  {
   "cell_type": "code",
   "execution_count": 12,
   "id": "26dd1e8b",
   "metadata": {},
   "outputs": [
    {
     "name": "stdout",
     "output_type": "stream",
     "text": [
      "Coeffients m1,m2 are :  [ 11.99557145 109.39495449]\n",
      "Interception c  :  -467.21008691909947\n"
     ]
    }
   ],
   "source": [
    "c = lr.intercept_\n",
    "m = lr.coef_\n",
    "print(\"Coeffients m1,m2 are : \",m)\n",
    "print(\"Interception c  : \",c)\n"
   ]
  },
  {
   "cell_type": "code",
   "execution_count": 13,
   "id": "e1ab2215",
   "metadata": {},
   "outputs": [
    {
     "data": {
      "text/plain": [
       "array([ 104.82273371,  488.06894126,   26.99750431,  321.99860518,\n",
       "        320.3955544 ,  819.16070532, 1013.03834645,  787.48454323,\n",
       "        -67.3068309 ,  107.18820013,  171.47790887,  658.48903386,\n",
       "        321.99860518,  223.34751867,  686.10448305,  -72.17279354,\n",
       "       -175.4714911 ,  253.62887146,  690.46682208,  343.83972254,\n",
       "        191.58933399,  192.89071138,  114.5083971 ,  302.79138657,\n",
       "        177.4647551 ,  374.98783087,  378.98116927,  433.83893585,\n",
       "        172.93707168,  502.27303884,  566.38051627,  849.14672322,\n",
       "        378.06265847,  889.91609418,  751.50416738,  557.43078854,\n",
       "       -223.0557609 ,  184.16772359,  630.01895758,  544.68460182,\n",
       "         -5.32533995,  240.17540489,  239.79294511,  196.41742309,\n",
       "        161.70641978,  254.19941549,  735.07044682,  217.13094303,\n",
       "        248.38002647,  821.50721922,  726.93321547, -164.29301702,\n",
       "        598.97817862,  422.05077649,  203.89626637,  685.59832404,\n",
       "        643.33944419,  447.26587519,  590.51097764, -178.74576503,\n",
       "        535.16345342,  975.27991939,  832.98024604,  -24.77407259,\n",
       "        817.60689014,  220.18642705,   84.97975667,  251.71868542,\n",
       "        589.4490172 ,  615.89018452,   76.4932436 ,  107.52100173,\n",
       "       -207.62096221,  700.68978845,  200.30305681,  871.07870558,\n",
       "        519.25656616,   -9.23241435,  108.77694662, -154.01662087,\n",
       "       -172.29819229,  217.13094303,  686.02538693,  400.94598587,\n",
       "        868.8440433 ,  200.30305681,  690.73106024,  319.50940803,\n",
       "        294.76304886,  483.72175165,  477.84932393,  768.39934934,\n",
       "        250.30662963,  305.7660842 ,  164.51408275,  345.37798147,\n",
       "        670.73070459,  349.02462081,  857.75105109,  212.39371893,\n",
       "        419.58183106,  459.67207666,  -14.77579632,  814.57242423,\n",
       "       -202.43229233,  751.67201567,  -58.73615091,  524.07839549,\n",
       "         62.71494121,  449.95949497,  525.4033264 ,  181.36006061,\n",
       "        563.19968999,  441.08673478,  465.6972505 ,  190.09104568,\n",
       "        167.25399592,  748.90811067,  586.63039898,  414.39693278,\n",
       "       -183.239378  ,  551.44810498, -201.16331085,  833.03497501])"
      ]
     },
     "execution_count": 13,
     "metadata": {},
     "output_type": "execute_result"
    }
   ],
   "source": [
    "#lets predict y_train values from lr model using X-train values\n",
    "y_pred_train = lr.predict(X_train)\n",
    "y_pred_train"
   ]
  },
  {
   "cell_type": "code",
   "execution_count": 14,
   "id": "465b41b6",
   "metadata": {},
   "outputs": [
    {
     "name": "stdout",
     "output_type": "stream",
     "text": [
      "The model performance for training set\n",
      "--------------------------------------\n",
      "RMSE is 108.18350732585613\n",
      "R2 score is 0.8886886042274107\n",
      "\n",
      "\n"
     ]
    }
   ],
   "source": [
    "# Model evaluation\n",
    "# model evaluation for training set\n",
    "y_pred_train = lr.predict(X_train)\n",
    "rmse = (np.sqrt(mean_squared_error(y_train, y_pred_train)))\n",
    "r2 = r2_score(y_train, y_pred_train)\n",
    "\n",
    "print(\"The model performance for training set\")\n",
    "print(\"--------------------------------------\")\n",
    "print('RMSE is {}'.format(rmse))\n",
    "print('R2 score is {}'.format(r2))\n",
    "print(\"\\n\")"
   ]
  },
  {
   "cell_type": "code",
   "execution_count": 15,
   "id": "9abadf53",
   "metadata": {},
   "outputs": [
    {
     "data": {
      "image/png": "[encoded data removed]",
      "text/plain": [
       "<Figure size 640x480 with 1 Axes>"
      ]
     },
     "metadata": {},
     "output_type": "display_data"
    }
   ],
   "source": [
    "import matplotlib.pyplot as pt \n",
    "plt.scatter(y_train,y_pred_train)\n",
    "plt.xlabel(\"y_train\")\n",
    "plt.ylabel(\"y_pred_train\")\n",
    "plt.show()"
   ]
  },
  {
   "cell_type": "code",
   "execution_count": 16,
   "id": "dfdf75eb",
   "metadata": {},
   "outputs": [
    {
     "name": "stdout",
     "output_type": "stream",
     "text": [
      "The model performance for testing set\n",
      "--------------------------------------\n",
      "RMSE is 108.6241910065677\n",
      "R2 score is 0.8642393556998063\n"
     ]
    }
   ],
   "source": [
    "\n",
    "# Calculate the root mean squared error (RMSE)\n",
    "y_test_predict = lr.predict(X_test)\n",
    "rmse = (np.sqrt(mean_squared_error(y_test, y_test_predict)))\n",
    "r2 = r2_score(y_test, y_test_predict)\n",
    "print(\"The model performance for testing set\")\n",
    "print(\"--------------------------------------\")\n",
    "print('RMSE is {}'.format(rmse))\n",
    "print('R2 score is {}'.format(r2))"
   ]
  },
  {
   "cell_type": "markdown",
   "id": "84a7e976",
   "metadata": {},
   "source": [
    "<b>Question 2</b> [<span style=\"color: red;\">10 points</span>]:<br>\n",
    "For the previous `X_train,y_train`, without using `scikit-learn`, use the Linear Regression training formula: $\\beta = (X^TX)^{-1}X^Ty$ to calculate the intercept $(\\beta_0)$ and the coefficients $(\\beta_1,\\beta_2)$ and print them out. <b>Hint:</b> Remember to add the column of all 1s for the intercept!"
   ]
  },
  {
   "cell_type": "code",
   "execution_count": 17,
   "id": "9aa007ac",
   "metadata": {},
   "outputs": [
    {
     "name": "stdout",
     "output_type": "stream",
     "text": [
      "Intercept (beta0): -467.2100869191037\n",
      "Coefficients (beta1, beta2): [ 11.99557145 109.39495449]\n"
     ]
    }
   ],
   "source": [
    "#Your code goes below\n",
    "\n",
    "# Add a column of all 1s for the intercept\n",
    "X_train_with_intercept = np.column_stack((np.ones(len(X_train)), X_train))\n",
    "\n",
    "# Calculate beta coefficients using the formula: beta = (X^T * X)^-1 * X^T * y\n",
    "beta = np.linalg.inv(X_train_with_intercept.T.dot(X_train_with_intercept)).dot(X_train_with_intercept.T).dot(y_train)\n",
    "\n",
    "# Extract intercept and coefficients\n",
    "intercept = beta[0]\n",
    "coefficients = beta[1:]\n",
    "\n",
    "# Print out intercept and coefficients\n",
    "print(\"Intercept (beta0):\", intercept)\n",
    "print(\"Coefficients (beta1, beta2):\", coefficients)\n"
   ]
  },
  {
   "cell_type": "markdown",
   "id": "472b6d3a",
   "metadata": {},
   "source": [
    "<b>Question 3</b>[<span style=\"color: red;\">10 points</span>]: <br>\n",
    "Now use `X_train,y_train`, without using `scikit-learn`, use batch gradient descent (BGD) for iterating to the correct answer (approximation) and print it out (intercept and coefficients). The answer in this case should look similar (but may not be exactly the same) to the answer from the first two questions.  Other points:<br>\n",
    "- Use $\\|\\beta^{(k-1)} - \\beta^{(k)}\\|_2 < 10^{-5}$ as the termination criteria for the loop (see `numpy.linalg.norm` for norm operations). \n",
    "- Your initial guess, $\\beta^{(0)}$ should be all zeros .\n",
    "- Choose an $\\eta$ that helps you solve the problem (choice left up to you)<br>\n",
    "****\n",
    "<b>Notes:</b>\n",
    "If the cost function of linear regression can be framed as the L2 norm of linear least squares:\n",
    "$$ F(\\beta) =  || X\\beta -y||_2^{2}  = \\beta^T X^T X \\beta - 2y^TX\\beta +y^T y $$\n",
    "Then the gradient to this cost function can be written as\n",
    "$$ \\nabla F(\\beta) = 2X^T(X\\beta - y) $$\n",
    "And the kth iteration of (batch) gradient descent can be written as\n",
    "$$ \\beta^{(k)} = \\beta^{(k-1)} - \\frac{\\eta}{m} \\nabla F(\\beta^{(k-1)}) $$\n",
    "(the superscript in parenthesis represents the iteration and NOT an exponent)<br>\n",
    "where $\\eta$ is the learning rate and $m$ are the number of rows in $X$\n"
   ]
  },
  {
   "cell_type": "code",
   "execution_count": 18,
   "id": "6152c565",
   "metadata": {},
   "outputs": [
    {
     "name": "stdout",
     "output_type": "stream",
     "text": [
      "Intercept (β0): -467.1213935732904\n",
      "Coefficients (β1, β2): [ 11.99336257 109.39228942]\n"
     ]
    }
   ],
   "source": [
    "#Your code goes below\n",
    "\n",
    "# Initialize coefficients to zeros\n",
    "beta = np.zeros(X_train.shape[1] + 1)  # +1 for the intercept\n",
    "\n",
    "# Define learning rate and convergence criterion\n",
    "learning_rate = 0.001\n",
    "convergence_criterion = 1e-5\n",
    "\n",
    "# Add a column of all 1s to X_train for the intercept\n",
    "X_train_with_intercept = np.c_[np.ones((X_train.shape[0], 1)), X_train]\n",
    "\n",
    "# Define the cost function\n",
    "def cost_function(X, y, beta):\n",
    "    y_pred = np.dot(X, beta)\n",
    "    error = y_pred - y\n",
    "    cost = np.sum(error ** 2) / (2 * len(y))\n",
    "    return cost\n",
    "\n",
    "# Perform batch gradient descent\n",
    "while True:\n",
    "    # Calculate predicted y values\n",
    "    y_pred = np.dot(X_train_with_intercept, beta)\n",
    "    \n",
    "    # Calculate the gradient of the cost function\n",
    "    gradient = np.dot(X_train_with_intercept.T, (y_pred - y_train)) / len(y_train)\n",
    "    \n",
    "    # Update coefficients\n",
    "    new_beta = beta - learning_rate * gradient\n",
    "    \n",
    "    # Check convergence criterion\n",
    "    if np.linalg.norm(new_beta - beta) < convergence_criterion:\n",
    "        break\n",
    "    \n",
    "    beta = new_beta\n",
    "\n",
    "# Extract intercept and coefficients\n",
    "intercept = beta[0]\n",
    "coefficients = beta[1:]\n",
    "\n",
    "# Print out the intercept and coefficients\n",
    "print(\"Intercept (β0):\", intercept)\n",
    "print(\"Coefficients (β1, β2):\", coefficients)\n"
   ]
  },
  {
   "cell_type": "markdown",
   "id": "9c8c0215-a751-468c-8a08-4830898167de",
   "metadata": {},
   "source": [
    "<b>Question 4</b>[<span style=\"color: red;\">10 points</span>]: Now, once again, without `sklearn`, compute $\\beta$ using stochastic gradient descent instead of batch gradient descent (BGD), using `X_train,y_train`, and without `sklearn`. Print out the inercept and coefficients. Other details:<br> \n",
    "- No particular stopping criteria (meaning, you can even loop it for a fixed number of iterations), but the values for the intercept and coefficients should be similar to values from Questions (each value can be up to + or - five from the actual value)\n",
    "- Your initial guess, $\\beta^{(0)}$ should be all zeros .\n",
    "- Choose an $\\eta$ that helps you solve the problem (choice left up to you)<br>"
   ]
  },
  {
   "cell_type": "code",
   "execution_count": 19,
   "id": "73f3be2a-1416-4714-98c2-3d70081a66f3",
   "metadata": {},
   "outputs": [
    {
     "name": "stdout",
     "output_type": "stream",
     "text": [
      "Coefficients:\n",
      "Intercept: -475.32461881810644\n",
      "Length: 11.83766981202667\n",
      "Width: 112.43302326193532\n"
     ]
    }
   ],
   "source": [
    "\n",
    "def stochastic_gradient_descent(X_train, y_train, learning_rate, epochs):\n",
    "    # Add a column of ones to represent the intercept term\n",
    "    X_train = np.column_stack((np.ones(len(X_train)), X_train))\n",
    "    \n",
    "    num_samples, num_features = X_train.shape\n",
    "    # Initialize coefficients with random values\n",
    "    beta = np.random.rand(num_features)\n",
    "    \n",
    "    # Convert y_train to a NumPy array\n",
    "    y_train = np.array(y_train)\n",
    "    \n",
    "    # Perform stochastic gradient descent\n",
    "    for _ in range(epochs):\n",
    "        for i in range(num_samples):\n",
    "            prediction = np.dot(X_train[i], beta)\n",
    "            error = y_train[i] - prediction\n",
    "            gradient = -2 * X_train[i] * error\n",
    "            beta -= learning_rate * gradient\n",
    "    \n",
    "    return beta\n",
    "\n",
    "# Assuming X_train and y_train are your training data\n",
    "# Assuming X_train is a matrix of shape (num_samples, num_features)\n",
    "# Assuming y_train is a vector of shape (num_samples,)\n",
    "# Adjust the learning rate and epochs as needed\n",
    "beta = stochastic_gradient_descent(X_train, y_train, learning_rate=0.0001, epochs=10000)\n",
    "\n",
    "intercept = beta[0]\n",
    "coefficients = beta[1:]\n",
    "\n",
    "print(\"Coefficients:\")\n",
    "print(\"Intercept:\", intercept)\n",
    "print(\"Length:\", coefficients[0])\n",
    "print(\"Width:\", coefficients[1])\n"
   ]
  },
  {
   "cell_type": "markdown",
   "id": "661c9619-ee81-4c6b-94fa-53c783999f6e",
   "metadata": {},
   "source": [
    "<b>Question 5</b>[<span style=\"color: red;\">10 points</span>]: Now for polynomial degrees 1 to 11 (included), train different models on `X_train,y_train` and calculate the R2 values for `X_train,y_train` as well as `X_test,y_test` and draw a plot similar to the one in `Poly_reg_exercise_soln.ipynb`. Comment on which degree polynomial may best suit this dataset for prediction and why. (And yes, you can use `sklearn`)"
   ]
  },
  {
   "cell_type": "code",
   "execution_count": 20,
   "id": "92bd9cf2",
   "metadata": {},
   "outputs": [
    {
     "data": {
      "text/html": [
       "<style>#sk-container-id-2 {color: black;}#sk-container-id-2 pre{padding: 0;}#sk-container-id-2 div.sk-toggleable {background-color: white;}#sk-container-id-2 label.sk-toggleable__label {cursor: pointer;display: block;width: 100%;margin-bottom: 0;padding: 0.3em;box-sizing: border-box;text-align: center;}#sk-container-id-2 label.sk-toggleable__label-arrow:before {content: \"▸\";float: left;margin-right: 0.25em;color: #696969;}#sk-container-id-2 label.sk-toggleable__label-arrow:hover:before {color: black;}#sk-container-id-2 div.sk-estimator:hover label.sk-toggleable__label-arrow:before {color: black;}#sk-container-id-2 div.sk-toggleable__content {max-height: 0;max-width: 0;overflow: hidden;text-align: left;background-color: #f0f8ff;}#sk-container-id-2 div.sk-toggleable__content pre {margin: 0.2em;color: black;border-radius: 0.25em;background-color: #f0f8ff;}#sk-container-id-2 input.sk-toggleable__control:checked~div.sk-toggleable__content {max-height: 200px;max-width: 100%;overflow: auto;}#sk-container-id-2 input.sk-toggleable__control:checked~label.sk-toggleable__label-arrow:before {content: \"▾\";}#sk-container-id-2 div.sk-estimator input.sk-toggleable__control:checked~label.sk-toggleable__label {background-color: #d4ebff;}#sk-container-id-2 div.sk-label input.sk-toggleable__control:checked~label.sk-toggleable__label {background-color: #d4ebff;}#sk-container-id-2 input.sk-hidden--visually {border: 0;clip: rect(1px 1px 1px 1px);clip: rect(1px, 1px, 1px, 1px);height: 1px;margin: -1px;overflow: hidden;padding: 0;position: absolute;width: 1px;}#sk-container-id-2 div.sk-estimator {font-family: monospace;background-color: #f0f8ff;border: 1px dotted black;border-radius: 0.25em;box-sizing: border-box;margin-bottom: 0.5em;}#sk-container-id-2 div.sk-estimator:hover {background-color: #d4ebff;}#sk-container-id-2 div.sk-parallel-item::after {content: \"\";width: 100%;border-bottom: 1px solid gray;flex-grow: 1;}#sk-container-id-2 div.sk-label:hover label.sk-toggleable__label {background-color: #d4ebff;}#sk-container-id-2 div.sk-serial::before {content: \"\";position: absolute;border-left: 1px solid gray;box-sizing: border-box;top: 0;bottom: 0;left: 50%;z-index: 0;}#sk-container-id-2 div.sk-serial {display: flex;flex-direction: column;align-items: center;background-color: white;padding-right: 0.2em;padding-left: 0.2em;position: relative;}#sk-container-id-2 div.sk-item {position: relative;z-index: 1;}#sk-container-id-2 div.sk-parallel {display: flex;align-items: stretch;justify-content: center;background-color: white;position: relative;}#sk-container-id-2 div.sk-item::before, #sk-container-id-2 div.sk-parallel-item::before {content: \"\";position: absolute;border-left: 1px solid gray;box-sizing: border-box;top: 0;bottom: 0;left: 50%;z-index: -1;}#sk-container-id-2 div.sk-parallel-item {display: flex;flex-direction: column;z-index: 1;position: relative;background-color: white;}#sk-container-id-2 div.sk-parallel-item:first-child::after {align-self: flex-end;width: 50%;}#sk-container-id-2 div.sk-parallel-item:last-child::after {align-self: flex-start;width: 50%;}#sk-container-id-2 div.sk-parallel-item:only-child::after {width: 0;}#sk-container-id-2 div.sk-dashed-wrapped {border: 1px dashed gray;margin: 0 0.4em 0.5em 0.4em;box-sizing: border-box;padding-bottom: 0.4em;background-color: white;}#sk-container-id-2 div.sk-label label {font-family: monospace;font-weight: bold;display: inline-block;line-height: 1.2em;}#sk-container-id-2 div.sk-label-container {text-align: center;}#sk-container-id-2 div.sk-container {/* jupyter's `normalize.less` sets `[hidden] { display: none; }` but bootstrap.min.css set `[hidden] { display: none !important; }` so we also need the `!important` here to be able to override the default hidden behavior on the sphinx rendered scikit-learn.org. See: https://github.com/scikit-learn/scikit-learn/issues/21755 */display: inline-block !important;position: relative;}#sk-container-id-2 div.sk-text-repr-fallback {display: none;}</style><div id=\"sk-container-id-2\" class=\"sk-top-container\"><div class=\"sk-text-repr-fallback\"><pre>Pipeline(steps=[(&#x27;polynomialfeatures&#x27;, PolynomialFeatures()),\n",
       "                (&#x27;linearregression&#x27;, LinearRegression())])</pre><b>In a Jupyter environment, please rerun this cell to show the HTML representation or trust the notebook. <br />On GitHub, the HTML representation is unable to render, please try loading this page with nbviewer.org.</b></div><div class=\"sk-container\" hidden><div class=\"sk-item sk-dashed-wrapped\"><div class=\"sk-label-container\"><div class=\"sk-label sk-toggleable\"><input class=\"sk-toggleable__control sk-hidden--visually\" id=\"sk-estimator-id-2\" type=\"checkbox\" ><label for=\"sk-estimator-id-2\" class=\"sk-toggleable__label sk-toggleable__label-arrow\">Pipeline</label><div class=\"sk-toggleable__content\"><pre>Pipeline(steps=[(&#x27;polynomialfeatures&#x27;, PolynomialFeatures()),\n",
       "                (&#x27;linearregression&#x27;, LinearRegression())])</pre></div></div></div><div class=\"sk-serial\"><div class=\"sk-item\"><div class=\"sk-estimator sk-toggleable\"><input class=\"sk-toggleable__control sk-hidden--visually\" id=\"sk-estimator-id-3\" type=\"checkbox\" ><label for=\"sk-estimator-id-3\" class=\"sk-toggleable__label sk-toggleable__label-arrow\">PolynomialFeatures</label><div class=\"sk-toggleable__content\"><pre>PolynomialFeatures()</pre></div></div></div><div class=\"sk-item\"><div class=\"sk-estimator sk-toggleable\"><input class=\"sk-toggleable__control sk-hidden--visually\" id=\"sk-estimator-id-4\" type=\"checkbox\" ><label for=\"sk-estimator-id-4\" class=\"sk-toggleable__label sk-toggleable__label-arrow\">LinearRegression</label><div class=\"sk-toggleable__content\"><pre>LinearRegression()</pre></div></div></div></div></div></div></div>"
      ],
      "text/plain": [
       "Pipeline(steps=[('polynomialfeatures', PolynomialFeatures()),\n",
       "                ('linearregression', LinearRegression())])"
      ]
     },
     "execution_count": 20,
     "metadata": {},
     "output_type": "execute_result"
    }
   ],
   "source": [
    "#lets set degree for some value, assume as 2\n",
    "degree = 2\n",
    "\n",
    "# Create a pipeline for polynomial regression with degree 'degree' using linear regression\n",
    "poly_model = make_pipeline(PolynomialFeatures(degree),LinearRegression())\n",
    "poly_model.fit(X_train, y_train)"
   ]
  },
  {
   "cell_type": "code",
   "execution_count": 21,
   "id": "5e880c65",
   "metadata": {},
   "outputs": [
    {
     "name": "stdout",
     "output_type": "stream",
     "text": [
      "The model performance for training set\n",
      "--------------------------------------\n",
      "RMSE is 49.91735477240337\n",
      "R2 score is 0.9763015118886748\n",
      "\n",
      "\n"
     ]
    }
   ],
   "source": [
    "# Model evaluation\n",
    "# model evaluation for training set\n",
    "y_train_predict = poly_model.predict(X_train)\n",
    "rmse = (np.sqrt(mean_squared_error(y_train, y_train_predict)))\n",
    "r2 = r2_score(y_train, y_train_predict)\n",
    "\n",
    "print(\"The model performance for training set\")\n",
    "print(\"--------------------------------------\")\n",
    "print('RMSE is {}'.format(rmse))\n",
    "print('R2 score is {}'.format(r2))\n",
    "print(\"\\n\")"
   ]
  },
  {
   "cell_type": "code",
   "execution_count": 22,
   "id": "e51f6c62",
   "metadata": {},
   "outputs": [
    {
     "name": "stdout",
     "output_type": "stream",
     "text": [
      "The model performance for testing set\n",
      "--------------------------------------\n",
      "RMSE is 59.380158969537746\n",
      "R2 score is 0.9594301415649233\n"
     ]
    }
   ],
   "source": [
    "# model evaluation for testing set\n",
    "y_test_predict = poly_model.predict(X_test)\n",
    "rmse = (np.sqrt(mean_squared_error(y_test, y_test_predict)))\n",
    "r2 = r2_score(y_test, y_test_predict)\n",
    "\n",
    "print(\"The model performance for testing set\")\n",
    "print(\"--------------------------------------\")\n",
    "print('RMSE is {}'.format(rmse))\n",
    "print('R2 score is {}'.format(r2))"
   ]
  },
  {
   "cell_type": "code",
   "execution_count": 23,
   "id": "a6100204",
   "metadata": {},
   "outputs": [],
   "source": [
    "# Initialize empty lists to store R^2 scores for training and testing data for different degrees of polynomial features\n",
    "r2_train_list = []\n",
    "r2_test_list = []\n",
    "\n",
    "# Iterate over different degrees of polynomial features\n",
    "for degree in range(1, 12):\n",
    "    # Create a pipeline for polynomial regression with the current degree and linear regression as the estimator\n",
    "    poly_model = make_pipeline(PolynomialFeatures(degree), LinearRegression())\n",
    "    \n",
    "    # Fit the polynomial regression model to the training data\n",
    "    poly_model.fit(X_train, y_train)\n",
    "\n",
    "    # Predict the target variable on the training data using the trained model\n",
    "    y_train_predict = poly_model.predict(X_train)\n",
    "    \n",
    "    # Calculate and append the R^2 score for the training data\n",
    "    r2_train_list.append(r2_score(y_train, y_train_predict))\n",
    "    \n",
    "    # Predict the target variable on the testing data using the trained model\n",
    "    y_test_predict = poly_model.predict(X_test)\n",
    "    \n",
    "    # Calculate and append the R^2 score for the testing data\n",
    "    r2_test_list.append(r2_score(y_test, y_test_predict))\n",
    "\n",
    "    "
   ]
  },
  {
   "cell_type": "code",
   "execution_count": 24,
   "id": "581895a7-32ea-4c6b-be12-25a64e3a9f3f",
   "metadata": {},
   "outputs": [
    {
     "data": {
      "text/plain": [
       "<matplotlib.legend.Legend at 0x1f79ad60b90>"
      ]
     },
     "execution_count": 24,
     "metadata": {},
     "output_type": "execute_result"
    },
    {
     "data": {
      "image/png": "[encoded data removed]",
      "text/plain": [
       "<Figure size 640x480 with 1 Axes>"
      ]
     },
     "metadata": {},
     "output_type": "display_data"
    }
   ],
   "source": [
    "plt.plot([i for i in range(1,12)],r2_train_list,label=\"On Training\",marker=\"o\")\n",
    "plt.plot([i for i in range(1,12)],r2_test_list,label=\"On Testing\",marker=\"o\")\n",
    "plt.xlabel(\"Polynomial degree\")\n",
    "plt.ylabel(\"R2 score\")\n",
    "plt.legend()"
   ]
  },
  {
   "cell_type": "markdown",
   "id": "b8b4877f",
   "metadata": {},
   "source": [
    "From the above graph, it is observed that the polynomial degree 4 appears to offer the best fit,as evidenced by the trend in R2 scores. Initially, elevating the polynomial degree results in improved R-squared scores for both the training and testing datasets, indicative of enhanced model performance. However, beyond a certain threshold, the continued increase in polynomial degree leads to overfitting, as reflected in a decline in the testing R-squared score. Consequently, a polynomial degree of 4 emerges as the optimal choice, striking a balance between capturing underlying patterns and preventing overfitting in the dataset."
   ]
  }
 ],
 "metadata": {
  "kernelspec": {
   "display_name": "Python 3 (ipykernel)",
   "language": "python",
   "name": "python3"
  },
  "language_info": {
   "codemirror_mode": {
    "name": "ipython",
    "version": 3
   },
   "file_extension": ".py",
   "mimetype": "text/x-python",
   "name": "python",
   "nbconvert_exporter": "python",
   "pygments_lexer": "ipython3",
   "version": "3.11.5"
  }
 },
 "nbformat": 4,
 "nbformat_minor": 5
}
