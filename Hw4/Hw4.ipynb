{
 "cells": [
  {
   "cell_type": "markdown",
   "id": "0109966f-52c0-4ba3-91e2-4302747fd759",
   "metadata": {},
   "source": [
    "## DATA 602 - Spring 2024\n",
    "### Homework Assignment 4\n",
    "Total points : 60<br>\n",
    " Please provide your solutions into the cells provided after question cells. You can create new cells as needed. <br>"
   ]
  },
  {
   "cell_type": "markdown",
   "id": "5be97481-09f8-43c7-9965-9d879075f6ae",
   "metadata": {},
   "source": [
    "<b>Question 1</b> [<span style=\"color: red;\">20 points</span>]:<br>\n",
    "Use the [Iris](https://scikit-learn.org/stable/auto_examples/datasets/plot_iris_dataset.html) dataset. Perform a train-test split of 75-25 split where `X` is the iris data ( all 4 columns) and `y` is the iris target (what species of iris flower it is). Do the following:\n",
    "+ Create a decision-tree classifier (default parameters). Calculate the accuracy on the test set.\n",
    "+ Create a random-forest classifier with `max_samples=20` and `max_depth=1` parameters and calculate accuracy on the test set. You can choose to tweak or change with other parameters. The accuracy from random-forest classifier should be equal or greater than the accuracy of the decision-tree classifier above."
   ]
  },
  {
   "cell_type": "code",
   "execution_count": 1,
   "id": "5f4c857e-8920-4680-acb5-2c85c53ca336",
   "metadata": {},
   "outputs": [
    {
     "name": "stdout",
     "output_type": "stream",
     "text": [
      "Accuracy of Decision Tree Classifier: 1.0\n",
      "Accuracy of Random Forest Classifier: 1.0\n"
     ]
    }
   ],
   "source": [
    "#Your code goes here\n",
    "from sklearn.datasets import load_iris\n",
    "from sklearn.model_selection import train_test_split\n",
    "from sklearn.tree import DecisionTreeClassifier\n",
    "from sklearn.ensemble import RandomForestClassifier\n",
    "from sklearn.metrics import accuracy_score\n",
    "\n",
    "# Load the Iris dataset\n",
    "iris = load_iris()\n",
    "X = iris.data\n",
    "y = iris.target\n",
    "\n",
    "# Split the dataset into training and testing sets (75-25 split)\n",
    "X_train, X_test, y_train, y_test = train_test_split(X, y, test_size=0.25, random_state=42)\n",
    "\n",
    "# Decision Tree Classifier\n",
    "dt_classifier = DecisionTreeClassifier()\n",
    "dt_classifier.fit(X_train, y_train)\n",
    "dt_pred = dt_classifier.predict(X_test)\n",
    "dt_accuracy = accuracy_score(y_test, dt_pred)\n",
    "print(\"Accuracy of Decision Tree Classifier:\", dt_accuracy)\n",
    "\n",
    "# Random Forest Classifier\n",
    "rf_classifier = RandomForestClassifier(max_samples=20, max_depth=1, random_state=42)\n",
    "rf_classifier.fit(X_train, y_train)\n",
    "rf_pred = rf_classifier.predict(X_test)\n",
    "rf_accuracy = accuracy_score(y_test, rf_pred)\n",
    "print(\"Accuracy of Random Forest Classifier:\", rf_accuracy)\n"
   ]
  },
  {
   "cell_type": "markdown",
   "id": "28e378c8-9769-4d5a-963e-0f1a439a793a",
   "metadata": {},
   "source": [
    "Run the code below (and then follow the instructions)"
   ]
  },
  {
   "cell_type": "code",
   "execution_count": 2,
   "id": "51e2e11a-6205-436d-83b8-34aff16e3cbe",
   "metadata": {},
   "outputs": [],
   "source": [
    "from sklearn.datasets import load_breast_cancer\n",
    "from sklearn.model_selection import train_test_split\n",
    "data = load_breast_cancer()\n",
    "X, y = data.data, data.target\n",
    "\n",
    "# Split the dataset into training and testing sets\n",
    "X_train, X_test, y_train, y_test = train_test_split(X, y, test_size=0.2, random_state=42)"
   ]
  },
  {
   "cell_type": "markdown",
   "id": "5235c9e5-ae71-4067-93ba-0a0f931224c9",
   "metadata": {},
   "source": [
    "<b>Question 2</b> [<span style=\"color: red;\">20 points</span>]:<br>\n",
    "This data is from the Wisconsin breast cancer [dataset](https://scikit-learn.org/stable/modules/generated/sklearn.datasets.load_breast_cancer.html):<br>\n",
    "+ Create a `VotingClassifier` model with 3 learners (oe estimators) of your choice inside it.\n",
    "+ Train this model on the `X_train,y_train` model.\n",
    "+ Generate Accuracy, Precision, Recall and F1-Score on `X_test,y_test` for (i) The voting classifier as a whole and (ii) the individual learners. (For each learner, at least 1 of the four scores of the individual learner must be worst than the corresponding score in the voting classifier. E.g one or more learners can be worst in accuracy, other in recall, other in precision etc)"
   ]
  },
  {
   "cell_type": "code",
   "execution_count": 3,
   "id": "a6d5d53d-32d2-46b9-9f41-12280e48be6f",
   "metadata": {},
   "outputs": [
    {
     "name": "stdout",
     "output_type": "stream",
     "text": [
      "Voting Classifier Metrics:\n",
      "Accuracy: 0.972027972027972\n",
      "Precision: 0.967032967032967\n",
      "Recall: 0.9887640449438202\n",
      "F1 Score: 0.9777777777777779\n",
      "\n",
      "Logistic Regression Metrics:\n",
      "Accuracy: 0.965034965034965\n",
      "Precision: 0.9666666666666667\n",
      "Recall: 0.9775280898876404\n",
      "F1 Score: 0.9720670391061451\n",
      "\n",
      "Decision Tree Metrics:\n",
      "Accuracy: 0.9370629370629371\n",
      "Precision: 0.9651162790697675\n",
      "Recall: 0.9325842696629213\n",
      "F1 Score: 0.9485714285714285\n",
      "\n",
      "SVM Metrics:\n",
      "Accuracy: 0.951048951048951\n",
      "Precision: 0.9361702127659575\n",
      "Recall: 0.9887640449438202\n",
      "F1 Score: 0.9617486338797814\n",
      "\n"
     ]
    }
   ],
   "source": [
    "#Your code goes here\n",
    "\n",
    "from sklearn.datasets import load_breast_cancer\n",
    "from sklearn.model_selection import train_test_split\n",
    "from sklearn.ensemble import VotingClassifier\n",
    "from sklearn.metrics import accuracy_score, precision_score, recall_score, f1_score\n",
    "from sklearn.linear_model import LogisticRegression\n",
    "from sklearn.tree import DecisionTreeClassifier\n",
    "from sklearn.svm import SVC\n",
    "\n",
    "# Load the breast cancer dataset\n",
    "breast_cancer = load_breast_cancer()\n",
    "X = breast_cancer.data\n",
    "y = breast_cancer.target\n",
    "\n",
    "# Split the data into training and testing sets\n",
    "X_train, X_test, y_train, y_test = train_test_split(X, y, test_size=0.25, random_state=42)\n",
    "\n",
    "# Define the individual classifiers\n",
    "logistic_clf = LogisticRegression(max_iter=10000)\n",
    "tree_clf = DecisionTreeClassifier()\n",
    "svm_clf = SVC()\n",
    "\n",
    "# Create the VotingClassifier with the individual classifiers\n",
    "voting_clf = VotingClassifier(estimators=[('lr', logistic_clf), ('dt', tree_clf), ('svm', svm_clf)], voting='hard')\n",
    "\n",
    "# Train the VotingClassifier\n",
    "voting_clf.fit(X_train, y_train)\n",
    "\n",
    "# Generate predictions\n",
    "voting_predictions = voting_clf.predict(X_test)\n",
    "\n",
    "# Calculate metrics for the VotingClassifier\n",
    "voting_accuracy = accuracy_score(y_test, voting_predictions)\n",
    "voting_precision = precision_score(y_test, voting_predictions)\n",
    "voting_recall = recall_score(y_test, voting_predictions)\n",
    "voting_f1 = f1_score(y_test, voting_predictions)\n",
    "\n",
    "print(\"Voting Classifier Metrics:\")\n",
    "print(\"Accuracy:\", voting_accuracy)\n",
    "print(\"Precision:\", voting_precision)\n",
    "print(\"Recall:\", voting_recall)\n",
    "print(\"F1 Score:\", voting_f1)\n",
    "print()\n",
    "\n",
    "# Calculate metrics for individual classifiers\n",
    "for clf_name, clf in [('Logistic Regression', logistic_clf), ('Decision Tree', tree_clf), ('SVM', svm_clf)]:\n",
    "    clf.fit(X_train, y_train)\n",
    "    clf_predictions = clf.predict(X_test)\n",
    "    clf_accuracy = accuracy_score(y_test, clf_predictions)\n",
    "    clf_precision = precision_score(y_test, clf_predictions)\n",
    "    clf_recall = recall_score(y_test, clf_predictions)\n",
    "    clf_f1 = f1_score(y_test, clf_predictions)\n",
    "    \n",
    "    print(clf_name, \"Metrics:\")\n",
    "    print(\"Accuracy:\", clf_accuracy)\n",
    "    print(\"Precision:\", clf_precision)\n",
    "    print(\"Recall:\", clf_recall)\n",
    "    print(\"F1 Score:\", clf_f1)\n",
    "    print()\n"
   ]
  },
  {
   "cell_type": "markdown",
   "id": "65319365-8545-4af4-aab0-0ad51a2579af",
   "metadata": {},
   "source": [
    "<b>Question 3</b> [<span style=\"color: red;\">20 points</span>]:<br>\n",
    "For the `Fish.csv` dataset (yes, again!):<br>\n",
    "+ Let `y` be the Weight and `X` be made up of all other variables (except `Species`)\n",
    "+ Split the data into 80-20 train test split\n",
    "+ Train a ensemble regression model of your choice (and your choice of parameters)\n",
    "+ Train a linear regression model\n",
    "+ Get the RMSE and R2 scores for both models on the test set. The ensemble model's RMSE should be lower and R2 score higher than linear regression's corresponding scores."
   ]
  },
  {
   "cell_type": "code",
   "execution_count": 3,
   "id": "25eb0df9-35b4-48a0-8f1a-faff72e2cee3",
   "metadata": {},
   "outputs": [
    {
     "name": "stdout",
     "output_type": "stream",
     "text": [
      "Ensemble Regression Model (Random Forest):\n",
      "RMSE: 67.3207305924408\n",
      "R^2 Score: 0.9681376301279729\n",
      "\n",
      "Linear Regression Model:\n",
      "RMSE: 129.47543084748065\n",
      "R^2 Score: 0.8821430593048695\n"
     ]
    }
   ],
   "source": [
    "#Your code goes here\n",
    "import pandas as pd\n",
    "from sklearn.model_selection import train_test_split\n",
    "from sklearn.ensemble import RandomForestRegressor\n",
    "from sklearn.linear_model import LinearRegression\n",
    "from sklearn.metrics import mean_squared_error, r2_score\n",
    "from math import sqrt\n",
    "\n",
    "# Load the Fish dataset\n",
    "fish_data = pd.read_csv(\"Fish.csv\")# Split the data into features (X) and target variable (yr)\n",
    "X = fish_data.drop(columns=['Weight', 'Species'])\n",
    "y = fish_data['Weight']\n",
    "\n",
    "# Split the data into 80-20 train-test split\n",
    "X_train, X_test, y_train, y_test = train_test_split(X, y, test_size=0.2, random_state=42)\n",
    "\n",
    "# Train an ensemble regression model (Random Forest) with chosen parameters\n",
    "ensemble_model = RandomForestRegressor(n_estimators=100, random_state=42)\n",
    "ensemble_model.fit(X_train, y_train)\n",
    "\n",
    "# Train a linear regression model\n",
    "linear_model = LinearRegression()\n",
    "linear_model.fit(X_train, y_train)\n",
    "\n",
    "# Make predictions on the test set\n",
    "ensemble_predictions = ensemble_model.predict(X_test)\n",
    "linear_predictions = linear_model.predict(X_test)\n",
    "\n",
    "# Calculate RMSE and R2 scores for ensemble model\n",
    "ensemble_rmse = sqrt(mean_squared_error(y_test, ensemble_predictions))\n",
    "ensemble_r2 = r2_score(y_test, ensemble_predictions)\n",
    "\n",
    "# Calculate RMSE and R2 scores for linear regression model\n",
    "linear_rmse = sqrt(mean_squared_error(y_test, linear_predictions))\n",
    "linear_r2 = r2_score(y_test, linear_predictions)\n",
    "\n",
    "print(\"Ensemble Regression Model (Random Forest):\")\n",
    "print(\"RMSE:\", ensemble_rmse)\n",
    "print(\"R^2 Score:\", ensemble_r2)\n",
    "\n",
    "print(\"\\nLinear Regression Model:\")\n",
    "print(\"RMSE:\", linear_rmse)\n",
    "print(\"R^2 Score:\",linear_r2)"
   ]
  }
 ],
 "metadata": {
  "kernelspec": {
   "display_name": "Python 3 (ipykernel)",
   "language": "python",
   "name": "python3"
  },
  "language_info": {
   "codemirror_mode": {
    "name": "ipython",
    "version": 3
   },
   "file_extension": ".py",
   "mimetype": "text/x-python",
   "name": "python",
   "nbconvert_exporter": "python",
   "pygments_lexer": "ipython3",
   "version": "3.11.5"
  }
 },
 "nbformat": 4,
 "nbformat_minor": 5
}
